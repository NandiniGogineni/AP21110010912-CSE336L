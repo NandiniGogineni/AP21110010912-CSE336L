{
 "cells": [
  {
   "cell_type": "markdown",
   "id": "11acc9f8",
   "metadata": {},
   "source": [
    "#Q1 Mean and Variance."
   ]
  },
  {
   "cell_type": "code",
   "execution_count": 1,
   "id": "e1ffaa51",
   "metadata": {},
   "outputs": [
    {
     "name": "stdout",
     "output_type": "stream",
     "text": [
      "Enter the dimension of the vector: 3\n",
      "Enter element 1: 2\n",
      "Enter element 2: 3\n",
      "Enter element 3: 4\n",
      "Sample Vector: [2. 3. 4.]\n",
      "Mean: 3.0\n",
      "Sample Variance: 1.0\n",
      "Population Variance: 0.6666666666666666\n"
     ]
    }
   ],
   "source": [
    "import numpy as np\n",
    "\n",
    "def compute_mean(array):\n",
    "    return np.mean(array)\n",
    "\n",
    "def compute_variance(array, sample=True):\n",
    "    if sample:\n",
    "        return np.var(array, ddof=1)\n",
    "    else:\n",
    "        return np.var(array)\n",
    "\n",
    "def main():\n",
    "    sample_vector = np.array([float(input(f\"Enter element {i+1}: \")) for i in range(int(input(\"Enter the dimension of the vector: \")))])\n",
    "\n",
    "    print(\"Sample Vector:\", sample_vector)\n",
    "    mean = compute_mean(sample_vector)\n",
    "    sample_variance = compute_variance(sample_vector)\n",
    "    population_variance = compute_variance(sample_vector, sample=False)\n",
    "\n",
    "    print(\"Mean:\", mean)\n",
    "    print(\"Sample Variance:\", sample_variance)\n",
    "    print(\"Population Variance:\", population_variance)\n",
    "\n",
    "if __name__ == \"__main__\":\n",
    "    main()"
   ]
  },
  {
   "cell_type": "markdown",
   "id": "4734f209",
   "metadata": {},
   "source": [
    "#Q2 Covariance between two vectors."
   ]
  },
  {
   "cell_type": "code",
   "execution_count": 2,
   "id": "fe225bb4",
   "metadata": {},
   "outputs": [
    {
     "name": "stdout",
     "output_type": "stream",
     "text": [
      "Enter the dimension of vector 1: 3\n",
      "Enter the dimension of vector 2: 3\n",
      "Enter 3 elements for vector 1 : 5 11 6\n",
      "Enter 3 elements for vector 2 : 4 6 16\n",
      "Covariance between Vector 1 and Vector 2: -4.333333333333334\n"
     ]
    }
   ],
   "source": [
    "### cov(X, Y) = Σ((Xi - X̄) * (Yi - Ȳ)) / n-1\n",
    "import numpy as np\n",
    "\n",
    "def compute_covariance(vector1, vector2):\n",
    "    covariance = np.sum((vector1 - np.mean(vector1)) * (vector2 - np.mean(vector2))) / (len(vector1) - 1)\n",
    "    return covariance\n",
    "\n",
    "def main():\n",
    "    M = int(input(\"Enter the dimension of vector 1: \"))\n",
    "    N = int(input(\"Enter the dimension of vector 2: \"))\n",
    "\n",
    "    vector1 = np.array(input(f\"Enter {M} elements for vector 1 : \").split(), dtype=float)\n",
    "    vector2 = np.array(input(f\"Enter {N} elements for vector 2 : \").split(), dtype=float)\n",
    "\n",
    "    covariance = compute_covariance(vector1, vector2)\n",
    "\n",
    "    print(\"Covariance between Vector 1 and Vector 2:\", covariance)\n",
    "\n",
    "if __name__ == \"__main__\":\n",
    "    main()"
   ]
  },
  {
   "cell_type": "markdown",
   "id": "b33a75d9",
   "metadata": {},
   "source": [
    "#Q3 Correlation between two vectors."
   ]
  },
  {
   "cell_type": "code",
   "execution_count": 1,
   "id": "f9091410",
   "metadata": {},
   "outputs": [
    {
     "name": "stdout",
     "output_type": "stream",
     "text": [
      "Enter the dimension of the vectors: 3\n",
      "Enter 3 elements for vector 1 : 5 6 2 \n",
      "Enter 3 elements for vector 2 : 6 7 3\n",
      "Correlation between Vector 1 and Vector 2: 1.5\n"
     ]
    }
   ],
   "source": [
    "import numpy as np\n",
    "\n",
    "def compute_correlation(vector1, vector2):\n",
    "    covariance = np.cov(vector1, vector2)[0][1]\n",
    "    correlation = covariance / (np.std(vector1) * np.std(vector2))\n",
    "    return correlation\n",
    "\n",
    "def main():\n",
    "    N = int(input(\"Enter the dimension of the vectors: \"))\n",
    "\n",
    "    vector1 = np.array(input(f\"Enter {N} elements for vector 1 : \").split(), dtype=float)\n",
    "    vector2 = np.array(input(f\"Enter {N} elements for vector 2 : \").split(), dtype=float)\n",
    "\n",
    "    if len(vector1) != N or len(vector2) != N:\n",
    "        print(f\"Error: Vectors must be of length {N}.\")\n",
    "        return\n",
    "\n",
    "    correlation = compute_correlation(vector1, vector2)\n",
    "\n",
    "    print(\"Correlation between Vector 1 and Vector 2:\", correlation)\n",
    "\n",
    "if __name__ == \"__main__\":\n",
    "    main()"
   ]
  },
  {
   "cell_type": "markdown",
   "id": "338efbcd",
   "metadata": {},
   "source": [
    "#Q4 Covariance matrix and Correlation matrix."
   ]
  },
  {
   "cell_type": "code",
   "execution_count": 2,
   "id": "62554b71",
   "metadata": {},
   "outputs": [
    {
     "name": "stdout",
     "output_type": "stream",
     "text": [
      "Enter the number of rows (samples): 3\n",
      "Enter the number of columns (features): 3\n",
      "Enter the data:\n",
      "Enter values for sample 1: 5 6 2\n",
      "Enter values for sample 2: 6 7 3\n",
      "Enter values for sample 3: 5 11 6\n",
      "Covariance Matrix:\n",
      " [[ 0.33333333 -0.5        -0.33333333]\n",
      " [-0.5         7.          5.5       ]\n",
      " [-0.33333333  5.5         4.33333333]]\n",
      "Correlation Matrix:\n",
      " [[ 1.5        -0.49099025 -0.41602515]\n",
      " [-0.49099025  1.5         1.49793814]\n",
      " [-0.41602515  1.49793814  1.5       ]]\n"
     ]
    }
   ],
   "source": [
    "def calculate_covariance_matrix(data):\n",
    "    mean = np.mean(data, axis=0)\n",
    "    centered_data = data - mean\n",
    "    covariance_matrix = np.cov(centered_data.T, bias=False)\n",
    "    return covariance_matrix\n",
    "\n",
    "def calculate_correlation_matrix(data):\n",
    "    covariance_matrix = calculate_covariance_matrix(data)\n",
    "    std_dev = np.std(data, axis=0)\n",
    "    correlation_matrix = np.divide(covariance_matrix, np.outer(std_dev, std_dev), where=(std_dev[:, None] * std_dev[None, :]) != 0)\n",
    "    return correlation_matrix\n",
    "\n",
    "rows = int(input(\"Enter the number of rows (samples): \"))\n",
    "cols = int(input(\"Enter the number of columns (features): \"))\n",
    "\n",
    "data = np.zeros((rows, cols))\n",
    "\n",
    "print(\"Enter the data:\")\n",
    "for i in range(rows):\n",
    "    data[i] = [float(val) for val in input(f\"Enter values for sample {i+1}: \").split()]\n",
    "\n",
    "covariance_matrix = calculate_covariance_matrix(data)\n",
    "correlation_matrix = calculate_correlation_matrix(data)\n",
    "\n",
    "print(\"Covariance Matrix:\\n\", covariance_matrix)\n",
    "print(\"Correlation Matrix:\\n\", correlation_matrix)"
   ]
  },
  {
   "cell_type": "code",
   "execution_count": null,
   "id": "ab5ef202",
   "metadata": {},
   "outputs": [],
   "source": []
  }
 ],
 "metadata": {
  "kernelspec": {
   "display_name": "Python 3 (ipykernel)",
   "language": "python",
   "name": "python3"
  },
  "language_info": {
   "codemirror_mode": {
    "name": "ipython",
    "version": 3
   },
   "file_extension": ".py",
   "mimetype": "text/x-python",
   "name": "python",
   "nbconvert_exporter": "python",
   "pygments_lexer": "ipython3",
   "version": "3.11.4"
  }
 },
 "nbformat": 4,
 "nbformat_minor": 5
}
